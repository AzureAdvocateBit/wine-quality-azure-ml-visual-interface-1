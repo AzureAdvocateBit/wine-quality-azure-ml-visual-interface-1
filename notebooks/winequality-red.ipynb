{
 "cells": [
  {
   "cell_type": "code",
   "execution_count": 183,
   "metadata": {},
   "outputs": [],
   "source": [
    "import pandas as pd\n",
    "import numpy as np\n",
    "import matplotlib.pyplot as plt\n",
    "import seaborn as sns\n",
    "from sklearn.model_selection import train_test_split\n",
    "from sklearn.svm import LinearSVC, SVC\n",
    "from sklearn.calibration import CalibratedClassifierCV\n",
    "from sklearn.metrics import precision_recall_curve\n",
    "from sklearn.linear_model import LogisticRegression\n",
    "from sklearn.tree import DecisionTreeClassifier"
   ]
  },
  {
   "cell_type": "code",
   "execution_count": 4,
   "metadata": {},
   "outputs": [
    {
     "data": {
      "text/html": [
       "<div>\n",
       "<style scoped>\n",
       "    .dataframe tbody tr th:only-of-type {\n",
       "        vertical-align: middle;\n",
       "    }\n",
       "\n",
       "    .dataframe tbody tr th {\n",
       "        vertical-align: top;\n",
       "    }\n",
       "\n",
       "    .dataframe thead th {\n",
       "        text-align: right;\n",
       "    }\n",
       "</style>\n",
       "<table border=\"1\" class=\"dataframe\">\n",
       "  <thead>\n",
       "    <tr style=\"text-align: right;\">\n",
       "      <th></th>\n",
       "      <th>fixed acidity</th>\n",
       "      <th>volatile acidity</th>\n",
       "      <th>citric acid</th>\n",
       "      <th>residual sugar</th>\n",
       "      <th>chlorides</th>\n",
       "      <th>free sulfur dioxide</th>\n",
       "      <th>total sulfur dioxide</th>\n",
       "      <th>density</th>\n",
       "      <th>pH</th>\n",
       "      <th>sulphates</th>\n",
       "      <th>alcohol</th>\n",
       "      <th>quality</th>\n",
       "      <th>qualityBool</th>\n",
       "    </tr>\n",
       "  </thead>\n",
       "  <tbody>\n",
       "    <tr>\n",
       "      <th>0</th>\n",
       "      <td>7.4</td>\n",
       "      <td>0.70</td>\n",
       "      <td>0.00</td>\n",
       "      <td>1.9</td>\n",
       "      <td>0.076</td>\n",
       "      <td>11.0</td>\n",
       "      <td>34.0</td>\n",
       "      <td>0.9978</td>\n",
       "      <td>3.51</td>\n",
       "      <td>0.56</td>\n",
       "      <td>9.4</td>\n",
       "      <td>5</td>\n",
       "      <td>0</td>\n",
       "    </tr>\n",
       "    <tr>\n",
       "      <th>1</th>\n",
       "      <td>7.8</td>\n",
       "      <td>0.88</td>\n",
       "      <td>0.00</td>\n",
       "      <td>2.6</td>\n",
       "      <td>0.098</td>\n",
       "      <td>25.0</td>\n",
       "      <td>67.0</td>\n",
       "      <td>0.9968</td>\n",
       "      <td>3.20</td>\n",
       "      <td>0.68</td>\n",
       "      <td>9.8</td>\n",
       "      <td>5</td>\n",
       "      <td>0</td>\n",
       "    </tr>\n",
       "    <tr>\n",
       "      <th>2</th>\n",
       "      <td>7.8</td>\n",
       "      <td>0.76</td>\n",
       "      <td>0.04</td>\n",
       "      <td>2.3</td>\n",
       "      <td>0.092</td>\n",
       "      <td>15.0</td>\n",
       "      <td>54.0</td>\n",
       "      <td>0.9970</td>\n",
       "      <td>3.26</td>\n",
       "      <td>0.65</td>\n",
       "      <td>9.8</td>\n",
       "      <td>5</td>\n",
       "      <td>0</td>\n",
       "    </tr>\n",
       "    <tr>\n",
       "      <th>3</th>\n",
       "      <td>11.2</td>\n",
       "      <td>0.28</td>\n",
       "      <td>0.56</td>\n",
       "      <td>1.9</td>\n",
       "      <td>0.075</td>\n",
       "      <td>17.0</td>\n",
       "      <td>60.0</td>\n",
       "      <td>0.9980</td>\n",
       "      <td>3.16</td>\n",
       "      <td>0.58</td>\n",
       "      <td>9.8</td>\n",
       "      <td>6</td>\n",
       "      <td>1</td>\n",
       "    </tr>\n",
       "    <tr>\n",
       "      <th>4</th>\n",
       "      <td>7.4</td>\n",
       "      <td>0.70</td>\n",
       "      <td>0.00</td>\n",
       "      <td>1.9</td>\n",
       "      <td>0.076</td>\n",
       "      <td>11.0</td>\n",
       "      <td>34.0</td>\n",
       "      <td>0.9978</td>\n",
       "      <td>3.51</td>\n",
       "      <td>0.56</td>\n",
       "      <td>9.4</td>\n",
       "      <td>5</td>\n",
       "      <td>0</td>\n",
       "    </tr>\n",
       "  </tbody>\n",
       "</table>\n",
       "</div>"
      ],
      "text/plain": [
       "   fixed acidity  volatile acidity  citric acid  residual sugar  chlorides  \\\n",
       "0            7.4              0.70         0.00             1.9      0.076   \n",
       "1            7.8              0.88         0.00             2.6      0.098   \n",
       "2            7.8              0.76         0.04             2.3      0.092   \n",
       "3           11.2              0.28         0.56             1.9      0.075   \n",
       "4            7.4              0.70         0.00             1.9      0.076   \n",
       "\n",
       "   free sulfur dioxide  total sulfur dioxide  density    pH  sulphates  \\\n",
       "0                 11.0                  34.0   0.9978  3.51       0.56   \n",
       "1                 25.0                  67.0   0.9968  3.20       0.68   \n",
       "2                 15.0                  54.0   0.9970  3.26       0.65   \n",
       "3                 17.0                  60.0   0.9980  3.16       0.58   \n",
       "4                 11.0                  34.0   0.9978  3.51       0.56   \n",
       "\n",
       "   alcohol  quality  qualityBool  \n",
       "0      9.4        5            0  \n",
       "1      9.8        5            0  \n",
       "2      9.8        5            0  \n",
       "3      9.8        6            1  \n",
       "4      9.4        5            0  "
      ]
     },
     "execution_count": 4,
     "metadata": {},
     "output_type": "execute_result"
    }
   ],
   "source": [
    "#File path to the csv file\n",
    "csv_file = "~\\dataset\\winequality-red.csv\"\n",
    "\n",
    "# Read csv file into dataframe\n",
    "df = pd.read_csv(csv_file)\n",
    "\n",
    "# Print first 5 rows in the dataframe\n",
    "df.head()"
   ]
  },
  {
   "cell_type": "code",
   "execution_count": 6,
   "metadata": {},
   "outputs": [
    {
     "name": "stdout",
     "output_type": "stream",
     "text": [
      "<class 'pandas.core.frame.DataFrame'>\n",
      "RangeIndex: 1599 entries, 0 to 1598\n",
      "Data columns (total 13 columns):\n",
      "fixed acidity           1599 non-null float64\n",
      "volatile acidity        1599 non-null float64\n",
      "citric acid             1599 non-null float64\n",
      "residual sugar          1599 non-null float64\n",
      "chlorides               1599 non-null float64\n",
      "free sulfur dioxide     1599 non-null float64\n",
      "total sulfur dioxide    1599 non-null float64\n",
      "density                 1599 non-null float64\n",
      "pH                      1599 non-null float64\n",
      "sulphates               1599 non-null float64\n",
      "alcohol                 1599 non-null float64\n",
      "quality                 1599 non-null int64\n",
      "qualityBool             1599 non-null int64\n",
      "dtypes: float64(11), int64(2)\n",
      "memory usage: 162.5 KB\n"
     ]
    }
   ],
   "source": [
    "df.info()"
   ]
  },
  {
   "cell_type": "code",
   "execution_count": 189,
   "metadata": {},
   "outputs": [
    {
     "data": {
      "text/plain": [
       "<matplotlib.axes._subplots.AxesSubplot at 0x1c6d687ec88>"
      ]
     },
     "execution_count": 189,
     "metadata": {},
     "output_type": "execute_result"
    },
    {
     "data": {
      "image/png": "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\n",
      "text/plain": [
       "<Figure size 720x432 with 1 Axes>"
      ]
     },
     "metadata": {
      "needs_background": "light"
     },
     "output_type": "display_data"
    }
   ],
   "source": [
    "fig = plt.figure(figsize = (10,6))\n",
    "sns.barplot(x = 'quality', y = 'volatile acidity', data = df)"
   ]
  },
  {
   "cell_type": "code",
   "execution_count": 188,
   "metadata": {},
   "outputs": [
    {
     "data": {
      "text/plain": [
       "<matplotlib.axes._subplots.AxesSubplot at 0x1c6d69ea7f0>"
      ]
     },
     "execution_count": 188,
     "metadata": {},
     "output_type": "execute_result"
    },
    {
     "data": {
      "image/png": "iVBORw0KGgoAAAANSUhEUgAAAmsAAAF3CAYAAAD6sAyZAAAABHNCSVQICAgIfAhkiAAAAAlwSFlzAAALEgAACxIB0t1+/AAAADl0RVh0U29mdHdhcmUAbWF0cGxvdGxpYiB2ZXJzaW9uIDMuMC4yLCBodHRwOi8vbWF0cGxvdGxpYi5vcmcvOIA7rQAAHX9JREFUeJzt3X+0XeVd5/H3h4RAYYAiRKP8mKClzqQj0x+3qZUprcViUEvGDjhBq9DVtRi1aKdaM3Tp0Ip2rWlsxRmLTrG0UmgLiNYVbUbKtGPrVMVcKJYGGo1IyQ29EoYfLaUUQr7zx9nRk+sN9wSyc5577/u11l1n72c/zz7fe1ZW8sl+zt5PqgpJkiS16ZBxFyBJkqR9M6xJkiQ1zLAmSZLUMMOaJElSwwxrkiRJDTOsSZIkNcywJkmS1DDDmiRJUsMMa5IkSQ0zrEmSJDVs6bgLOFCOP/74Wrly5bjLkCRJmtOtt976QFUtH6XvgglrK1euZHJyctxlSJIkzSnJl0bt6zSoJElSwwxrkiRJDTOsSZIkNcywJkmS1DDDmiRJUsMMa5IkSQ0zrEmSJDXMsCZJktQww5okSVLDDGuSJEkNM6xJkiQ1zLAmSZLUsAWzkPt8tX79eqanp1mxYgUbNmwYdzmSJKkxhrUxm56eZseOHeMuQ5IkNcppUEmSpIYZ1iRJkhpmWJMkSWqYYU2SJKlhhjVJkqSGGdYkSZIaZliTJElqmGFNkiSpYb2GtSRrkmxNsi3JJbMcPyPJbUl2JTl3xrGTk3wiyV1J7kyyss9aJUmSWtRbWEuyBLgCOBtYBZyfZNWMbvcCFwIfmeUUHwJ+rar+NbAauL+vWiVJklrV53JTq4FtVXU3QJLrgLXAnXs6VNU93bHdwwO7ULe0qm7u+j3aY52SJEnN6nMa9ARg+9D+VNc2iucDDyf5gySfS/Jr3ZU6SZKkRaXPsJZZ2mrEsUuBVwBvBV4KfDuD6dK93yC5KMlkksmdO3c+0zolSZKa1WdYmwJOGto/EbhvP8Z+rqrurqpdwB8CL57ZqaqurKqJqppYvnz5sy5YkiSpNX2Gtc3AqUlOSbIMWAds3I+xxybZk8BezdB33SRJkhaL3sJad0XsYuAm4C7ghqrakuSyJOcAJHlpkingPOB9SbZ0Y59iMAX6ySR3MJhS/Z2+apUkSWpVn3eDUlWbgE0z2i4d2t7MYHp0trE3A6f1WZ8kSVLrXMFAkiSpYYY1SZKkhhnWJEmSGmZYkyRJaphhTZIkqWGGNUmSpIYZ1iRJkhpmWJMkSWqYYU2SJKlhhjVJkqSGGdYkSZIaZliTJElqmGFNkiSpYYY1SZKkhhnWJEmSGmZYkyRJaphhTZIkqWGGNUmSpIYZ1iRJkhpmWJMkSWqYYU2SJKlhhjVJkqSGGdYkSZIaZliTJElqmGFNkiSpYYY1SZKkhhnWJEmSGmZYkyRJalivYS3JmiRbk2xLcsksx89IcluSXUnOneX40Ul2JHlvn3VKkiS1qrewlmQJcAVwNrAKOD/Jqhnd7gUuBD6yj9P8CvDpvmqUJElqXZ9X1lYD26rq7qp6ArgOWDvcoaruqarPA7tnDk7yEuBbgE/0WKMkSVLT+gxrJwDbh/anurY5JTkEeA/wCz3UJUmSNG/0GdYyS1uNOPangU1Vtf3pOiW5KMlkksmdO3fud4GSJEmtW9rjuaeAk4b2TwTuG3Hsy4FXJPlp4F8Ay5I8WlV73aRQVVcCVwJMTEyMGgQlSZLmjT7D2mbg1CSnADuAdcCPjjKwqn5sz3aSC4GJmUFNkiRpMehtGrSqdgEXAzcBdwE3VNWWJJclOQcgyUuTTAHnAe9LsqWveiRJkuajPq+sUVWbgE0z2i4d2t7MYHr06c7xu8Dv9lCeJElS81zBQJIkqWGGNUmSpIYZ1iRJkhpmWJMkSWqYYU2SJKlhhjVJkqSGGdYkSZIaZliTJElqmGFNkiSpYYY1SZKkhhnWJEmSGmZYkyRJaphhTZIkqWGGNUmSpIYZ1iRJkhpmWJMkSWqYYU2SJKlhhjVJkqSGGdYkSZIaZliTJElqmGFNkiSpYYY1SZKkhhnWJEmSGmZYkyRJaphhTZIkqWGGNUmSpIYZ1iRJkhpmWJMkSWrY0j5PnmQN8N+BJcD7q+q/zTh+BvAbwGnAuqq6sWt/IfDbwNHAU8A7q+r6A1HTS37hQwfiNAfMUQ98lSXAvQ98tanabv21nxh3CZIkiR6vrCVZAlwBnA2sAs5PsmpGt3uBC4GPzGh/DPiJqnoBsAb4jSTP7atWSZKkVvV5ZW01sK2q7gZIch2wFrhzT4equqc7tnt4YFX9zdD2fUnuB5YDD/dYryRJUnP6/M7aCcD2of2prm2/JFkNLAP+7gDVJUmSNG/0GdYyS1vt1wmSbwWuAd5QVbtnOX5Rkskkkzt37nyGZUqSJLWrz7A2BZw0tH8icN+og5McDXwc+KWq+svZ+lTVlVU1UVUTy5cvf1bFSpIktajPsLYZODXJKUmWAeuAjaMM7Pp/DPhQVf1ejzVKkiQ1rbewVlW7gIuBm4C7gBuqakuSy5KcA5DkpUmmgPOA9yXZ0g3/EeAM4MIkt3c/L+yrVkmSpFb1+py1qtoEbJrRdunQ9mYG06Mzx10LXNtnbZIkSfOBKxhIkiQ1zLAmSZLUsF6nQaUWrV+/nunpaVasWMGGDRvGXY4kSU/LsKZFZ3p6mh07doy7DEmSRuI0qCRJUsMMa5IkSQ0zrEmSJDXMsCZJktQww5okSVLDDGuSJEkNM6xJkiQ1zLAmSZLUMMOaJElSwwxrkiRJDTOsSZIkNcywJkmS1DDDmiRJUsMMa5IkSQ0zrEmSJDXMsCZJktQww5okSVLDDGuSJEkNM6xJkiQ1zLAmSZLUMMOaJElSwwxrkiRJDTOsSZIkNcywJkmS1DDDmiRJUsN6DWtJ1iTZmmRbkktmOX5GktuS7Epy7oxjFyT52+7ngj7rlCRJalVvYS3JEuAK4GxgFXB+klUzut0LXAh8ZMbYbwLeDrwMWA28PcmxfdUqSZLUqj6vrK0GtlXV3VX1BHAdsHa4Q1XdU1WfB3bPGPv9wM1V9WBVPQTcDKzpsVZJkqQm9RnWTgC2D+1PdW19j5UkSVow+gxrmaWtDuTYJBclmUwyuXPnzv0qTpIkaT7oM6xNAScN7Z8I3Hcgx1bVlVU1UVUTy5cvf8aFSpIktarPsLYZODXJKUmWAeuAjSOOvQk4K8mx3Y0FZ3VtkiRJi8pIYS3JhiRHJzk0ySeTPJDk9U83pqp2ARczCFl3ATdU1ZYklyU5pzvvS5NMAecB70uypRv7IPArDALfZuCyrk2SJGlRWTpiv7Oqan2SH2YwRXke8H+Aa59uUFVtAjbNaLt0aHszgynO2cZ+APjAiPVJkiQtSKOGtUO71x8APlpVDyaz3QMgSf/c+vXrmZ6eZsWKFWzYsGHc5UjSvDJqWPujJF8Evg78dJLlwOP9lSVpIZmenmbHjh3jLkOS5qWRvrNWVZcALwcmqupJ4DFmPOBWkiRJB96oNxgcAbwJ+O2u6duAib6KkiRJ0sCoj+74IPAE8D3d/hTwq71UJEmSpH80alj7jqraADwJUFVfZ/ZVBiRJknQAjRrWnkjyHLoln5J8B/CN3qqSJEkSMPrdoG8H/gQ4KcmHgdOBC/sqSpIkSQMjhbWqujnJbcB3M5j+fHNVPdBrZZKesdN/8/Rxl7CXZQ8v4xAOYfvD25uq7bM/89lxlyBJc3rasJbkxTOavty9npzk5Kq6rZ+yJEmSBHNfWXtP93o4g0d1/DWDK2unAbcA/66/0iRJkvS0NxhU1fdW1fcCXwJeXFUTVfUS4EXAtoNRoCRJ0mI26g0G/6qq7tizU1VfSPLCnmrSAnPvZd817hL2suvBbwKWsuvBLzVV28mX3jF3J0nSojNqWLsryfuBaxk8vuP1wF29VSVJkiRg9LD2BuCngDd3+5/hn5aekiRJUk9GfXTH48Dl3Y8kSZIOkrke3XFDVf1IkjvoVi8YVlWn9VaZpAWjjih2s5s64p/9NaKerF+/nunpaVasWMGGDRvGXY6kZ2GuK2t7pj1/qO9CJC1cT57+5LhLWHSmp6fZsWPHuMuQdAA8bVirqi8nWQJcVVXfd5BqkiRJUmfOhdyr6ingsSTHHIR6JEmSNGTUu0EfB+5IcjPwtT2NVfWzvVQlSZIkYPSw9vHuRwfY7mVH7vUqSZI0bNRHd1ydZBnw/K5pa1X5jeED4GunnjXuEiRJUsNGCmtJXgVcDdzDYCH3k5JcUFWf6a80SZo/Pn3GK8ddwl6+vnQJJHx9aqqp2l75mU+PuwRp3hl1GvQ9wFlVtRUgyfOBjwIv6aswSZIkjXA3aOfQPUENoKr+Bji0n5IkSZK0x6hX1iaTXAVc0+3/GHBrPyVJkiRpj1HD2k8BbwJ+lsF31j4D/FZfRUmSJGlgpGnQqvpGVf16Vb2uqn64qi6vqm/MNS7JmiRbk2xLcsksxw9Lcn13/JYkK7v2Q5NcneSOJHcledv+/mKSJEkLwVwLuc+6gPseT7eQe7dM1RXAa4ApYHOSjVV151C3NwIPVdXzkqwD3gX8R+A84LCq+q4kRwB3JvloVd0z4u8lSYvac6v2epU0f801DfpsFnBfDWyrqrsBklwHrAWGw9pa4B3d9o3Ae5OEQUA8MslS4DnAE8BXnkUtkrSovP6p3eMuYdFZv34909PTrFixgg0bNoy7HC0gcy3k/qVnce4TgO1D+1PAy/bVp6p2JXkEOI5BcFsLfBk4AnhLVT34LGqRJKlX09PT7NixY9xlaAEa6TtrSV6X5G+TPJLkK0m+mmSuK12ZpW3m9fh99VkNPAV8G3AK8PNJvn2Wui5KMplkcufOnSP8JpIkSfPLqM9Z2wCcU1XHVNXRVXVUVR09x5gp4KSh/ROB+/bVp5vyPAZ4EPhR4E+q6smquh/4LDAx8w2q6sqqmqiqieXLl4/4q0iSJM0fo4a1f6iqu/bz3JuBU5Oc0q0rug7YOKPPRuCCbvtc4FNVVcC9wKszcCTw3cAX9/P9JUmS5r257gZ9Xbc5meR64A+Bf3xkR1X9wb7Gdt9Buxi4CVgCfKCqtiS5DJisqo3AVcA1SbYxuKK2rht+BfBB4AsMpko/WFWffya/oCRJ0nw2192gr+1eC3gMOGvoWAH7DGsAVbUJ2DSj7dKh7ccZPKZj5rhHZ2uXJElabOa6G/QNAEmuBt5cVQ93+8cyWNxdkiRJPRp1uanT9gQ1gKp6KMmLeqpJkqQ5vffn/2jcJezl4Qe+9o+vLdV28XteO3cnNW3UsHZIkmOr6iGAJN+0H2Olphx/+G5gV/cqSVLbRg1c7wH+PMmNDL6r9iPAO3urSurRW097eO5OkiQ1YqSwVlUfSjIJvJrB3Zmvm7HGpyRJknow8lRmF84MaJIkSQeR3zuTJEnz0vr165menmbFihVs2LBh3OX0xrAmSZLmpenpaXbs2DHuMno36nJTkiRJGgOvrEmSdAAcuezovV6lA8WwJknSAXD6d7xu7k7SM+A0qCRJUsMMa5IkSQ0zrEmSJDXMsCZJktQww5okSVLDvBtUkiSN5J2vP3fcJezlwfsfGbxOf7mp2n7x2hsP6Pm8siZJktQww5okSVLDDGuSJEkNM6xJkiQ1zLAmSZLUMMOaJElSwwxrkiRJDTOsSZIkNcywJkmS1DDDmiRJUsNcbkqSJM1Lhy85ZK/XharX3y7JmiRbk2xLcsksxw9Lcn13/JYkK4eOnZbkL5JsSXJHksP7rFWSJM0vLzruKF7+zcfwouOOGncpveotrCVZAlwBnA2sAs5PsmpGtzcCD1XV84DLgXd1Y5cC1wI/WVUvAF4FPNlXrZIkSa3q88raamBbVd1dVU8A1wFrZ/RZC1zdbd8InJkkwFnA56vqrwGq6v9V1VM91ipJktSkPsPaCcD2of2prm3WPlW1C3gEOA54PlBJbkpyW5L1PdYpSZLUrD5vMMgsbTVin6XAvwNeCjwGfDLJrVX1yb0GJxcBFwGcfPLJz7pgSZKk1vR5ZW0KOGlo/0Tgvn316b6ndgzwYNf+6ap6oKoeAzYBL575BlV1ZVVNVNXE8uXLe/gVJEmSxqvPsLYZODXJKUmWAeuAjTP6bAQu6LbPBT5VVQXcBJyW5IguxL0SuLPHWiVJkprU2zRoVe1KcjGD4LUE+EBVbUlyGTBZVRuBq4BrkmxjcEVtXTf2oSS/ziDwFbCpqj7eV62SJEmt6vWhuFW1icEU5nDbpUPbjwPn7WPstQwe3yFJkrRoLexH/kqSJM1zhjVJkqSGGdYkSZIaZliTJElqmGFNkiSpYYY1SZKkhhnWJEmSGmZYkyRJaphhTZIkqWGGNUmSpIYZ1iRJkhpmWJMkSWqYYU2SJKlhhjVJkqSGGdYkSZIaZliTJElqmGFNkiSpYYY1SZKkhhnWJEmSGmZYkyRJaphhTZIkqWGGNUmSpIYZ1iRJkhpmWJMkSWqYYU2SJKlhhjVJkqSGGdYkSZIaZliTJElqWK9hLcmaJFuTbEtyySzHD0tyfXf8liQrZxw/OcmjSd7aZ52SJEmt6i2sJVkCXAGcDawCzk+yaka3NwIPVdXzgMuBd804fjnwv/qqUZIkqXV9XllbDWyrqrur6gngOmDtjD5rgau77RuBM5MEIMm/B+4GtvRYoyRJUtP6DGsnANuH9qe6tln7VNUu4BHguCRHAv8F+OUe65MkSWpen2Ets7TViH1+Gbi8qh592jdILkoymWRy586dz7BMSZKkdi3t8dxTwElD+ycC9+2jz1SSpcAxwIPAy4Bzk2wAngvsTvJ4Vb13eHBVXQlcCTAxMTEzCEqSJM17fYa1zcCpSU4BdgDrgB+d0WcjcAHwF8C5wKeqqoBX7OmQ5B3AozODmiRJ0mLQW1irql1JLgZuApYAH6iqLUkuAyaraiNwFXBNkm0Mrqit66seSZKk+ajPK2tU1SZg04y2S4e2HwfOm+Mc7+ilOEmSpHnAFQwkSZIaZliTJElqmGFNkiSpYYY1SZKkhhnWJEmSGmZYkyRJaphhTZIkqWGGNUmSpIYZ1iRJkhpmWJMkSWqYYU2SJKlhhjVJkqSGGdYkSZIaZliTJElqmGFNkiSpYYY1SZKkhhnWJEmSGmZYkyRJaphhTZIkqWGGNUmSpIYZ1iRJkhpmWJMkSWqYYU2SJKlhhjVJkqSGGdYkSZIaZliTJElqmGFNkiSpYYY1SZKkhhnWJEmSGtZrWEuyJsnWJNuSXDLL8cOSXN8dvyXJyq79NUluTXJH9/rqPuuUJElqVW9hLckS4ArgbGAVcH6SVTO6vRF4qKqeB1wOvKtrfwB4bVV9F3ABcE1fdUqSJLWszytrq4FtVXV3VT0BXAesndFnLXB1t30jcGaSVNXnquq+rn0LcHiSw3qsVZIkqUl9hrUTgO1D+1Nd26x9qmoX8Ahw3Iw+/wH4XFV9o6c6JUmSmrW0x3Nnlrbanz5JXsBgavSsWd8guQi4CODkk09+ZlVKkiQ1rM8ra1PASUP7JwL37atPkqXAMcCD3f6JwMeAn6iqv5vtDarqyqqaqKqJ5cuXH+DyJUmSxq/PsLYZODXJKUmWAeuAjTP6bGRwAwHAucCnqqqSPBf4OPC2qvpsjzVKkiQ1rbew1n0H7WLgJuAu4Iaq2pLksiTndN2uAo5Lsg34OWDP4z0uBp4H/Nckt3c/39xXrZIkSa3q8ztrVNUmYNOMtkuHth8Hzptl3K8Cv9pnbZIkSfOBKxhIkiQ1zLAmSZLUMMOaJElSwwxrkiRJDTOsSZIkNcywJkmS1DDDmiRJUsMMa5IkSQ0zrEmSJDXMsCZJktQww5okSVLDDGuSJEkNM6xJkiQ1zLAmSZLUMMOaJElSwwxrkiRJDTOsSZIkNcywJkmS1DDDmiRJUsMMa5IkSQ0zrEmSJDXMsCZJktQww5okSVLDDGuSJEkNM6xJkiQ1zLAmSZLUMMOaJElSwwxrkiRJDes1rCVZk2Rrkm1JLpnl+GFJru+O35Jk5dCxt3XtW5N8f591SpIktaq3sJZkCXAFcDawCjg/yaoZ3d4IPFRVzwMuB97VjV0FrANeAKwBfqs7nyRJ0qLS55W11cC2qrq7qp4ArgPWzuizFri6274RODNJuvbrquobVfX3wLbufJIkSYtKn2HtBGD70P5U1zZrn6raBTwCHDfiWEmSpAVvaY/nzixtNWKfUcaS5CLgom730SRb96vCdhwPPDDuIobl3ReMu4S+NfeZ8/bZ/tgvKM195vlZP/ODLn7mB9vP/Pq4K+hdc5/5L314pD/n/3LU8/UZ1qaAk4b2TwTu20efqSRLgWOAB0ccS1VdCVx5AGseiySTVTUx7joWEz/zg8/P/ODzMz/4/MwPvsXwmfc5DboZODXJKUmWMbhhYOOMPhuBPZdwzgU+VVXVta/r7hY9BTgV+Ksea5UkSWpSb1fWqmpXkouBm4AlwAeqakuSy4DJqtoIXAVck2Qbgytq67qxW5LcANwJ7ALeVFVP9VWrJElSq/qcBqWqNgGbZrRdOrT9OHDePsa+E3hnn/U1ZN5P5c5DfuYHn5/5wednfvD5mR98C/4zz2DWUZIkSS1yuSlJkqSGGdbGKMnhSf4qyV8n2ZLkl8dd02KQZEmSzyX543HXslgkuSfJHUluTzI57noWgyTPTXJjki8muSvJy8dd00KW5Du7P997fr6S5D+Pu66FLMlbun87v5Dko0kOH3dNfXEadIy61RqOrKpHkxwK/F/gzVX1l2MubUFL8nPABHB0Vf3QuOtZDJLcA0xUVVPPQlrIklwN/FlVvb+7I/+Iqnp43HUtBt3yiDuAl1XVl8Zdz0KU5AQG/2auqqqvdzclbqqq3x1vZf3wytoY1cCj3e6h3Y/puUdJTgR+EHj/uGuR+pLkaOAMBnfcU1VPGNQOqjOBvzOo9W4p8JzuOa1HMMvzWBcKw9qYdVNytwP3AzdX1S3jrmmB+w1gPbB73IUsMgV8Ismt3coj6te3AzuBD3ZT/u9PcuS4i1pE1gEfHXcRC1lV7QDeDdwLfBl4pKo+Md6q+mNYG7OqeqqqXshglYbVSf7NuGtaqJL8EHB/Vd067loWodOr6sXA2cCbkpwx7oIWuKXAi4HfrqoXAV8DLhlvSYtDN+V8DvB7465lIUtyLLAWOAX4NuDIJK8fb1X9Maw1opui+FNgzZhLWchOB87pvj91HfDqJNeOt6TFoaru617vBz4GrB5vRQveFDA1dKX+RgbhTf07G7itqv5h3IUscN8H/H1V7ayqJ4E/AL5nzDX1xrA2RkmWJ3lut/0cBn/4vjjeqhauqnpbVZ1YVSsZTFN8qqoW7P/EWpHkyCRH7dkGzgK+MN6qFraqmga2J/nOrulMBivCqH/n4xTowXAv8N1Jjuhu1jsTuGvMNfWm1xUMNKdvBa7u7hw6BLihqnychBaabwE+Nvj7lKXAR6rqT8Zb0qLwM8CHu2m5u4E3jLmeBS/JEcBrgP807loWuqq6JcmNwG0MlqX8HAt4JQMf3SFJktQwp0ElSZIaZliTJElqmGFNkiSpYYY1SZKkhhnWJEmSGmZYk6QRJFmZ5Avd9kSS/9FtvyrJgn0Yp6Tx8zlrkrSfqmoSmOx2XwU8Cvz52AqStKB5ZU3SgpfkF5NsTfK/k3w0yVuT/GmSie748d0yZHuuoP1Zktu6n3921ay7mvbHSVYCPwm8JcntSV6R5O+THNr1OzrJPXv2JemZ8MqapAUtyUsYLC/2IgZ/590G3Po0Q+4HXlNVjyc5lcHSQROzdayqe5L8T+DRqnp3935/Cvwg8Ifd+/5+t3ahJD0jXlmTtNC9AvhYVT1WVV8BNs7R/1Dgd5LcAfwesGo/3+/9/NPSTm8APrif4yVpL15Zk7QYzLau3i7+6T+shw+1vwX4B+Dfdscf3683qvpsN5X6SmBJVblovaRnxStrkha6zwA/nOQ5SY4CXtu13wO8pNs+d6j/McCXq2o38OPAkjnO/1XgqBltH2IwfepVNUnPmmFN0oJWVbcB1wO3A78P/Fl36N3ATyX5c+D4oSG/BVyQ5C+B5wNfm+Mt/ohBGLw9ySu6tg8DxzIIbJL0rKRqttkBSVqYkryDoRsCenqPc4G1VfXjfb2HpMXD76xJ0gGU5DeBs4EfGHctkhYGr6xJkiQ1zO+sSZIkNcywJkmS1DDDmiRJUsMMa5IkSQ0zrEmSJDXMsCZJktSw/w8iCWhrpXc9bAAAAABJRU5ErkJggg==\n",
      "text/plain": [
       "<Figure size 720x432 with 1 Axes>"
      ]
     },
     "metadata": {
      "needs_background": "light"
     },
     "output_type": "display_data"
    }
   ],
   "source": [
    "fig = plt.figure(figsize = (10,6))\n",
    "sns.barplot(x = 'quality', y = 'chlorides', data = df)"
   ]
  },
  {
   "cell_type": "code",
   "execution_count": 187,
   "metadata": {},
   "outputs": [
    {
     "data": {
      "image/png": "iVBORw0KGgoAAAANSUhEUgAAAYUAAAEKCAYAAAD9xUlFAAAABHNCSVQICAgIfAhkiAAAAAlwSFlzAAALEgAACxIB0t1+/AAAADl0RVh0U29mdHdhcmUAbWF0cGxvdGxpYiB2ZXJzaW9uIDMuMC4yLCBodHRwOi8vbWF0cGxvdGxpYi5vcmcvOIA7rQAAFk9JREFUeJzt3X+QXWd93/H3x2sLY9XCEG1Loh9IocKthhAcNiKJCzYxpjI/rDQxVM5AgSFR0iJD+FkzMC51JzPFoaGEOIBCAUMAYZyQCrrFNPyGBKKVcQDZqBXCWGtjLGOM+Rlb9rd/3KPj6/Vq98q+R1e7fr9mdvY85z733O8dj/ej5znnPCdVhSRJAMeNugBJ0rHDUJAktQwFSVLLUJAktQwFSVLLUJAktQwFSVLLUJAktQwFSVLr+FEXcKSWL19ea9asGXUZkrSg7Nq165aqGp+v34ILhTVr1jA1NTXqMiRpQUnyrUH6OX0kSWoZCpKklqEgSWoZCpKklqEgSWoZCpKklqEgSWoZCpKk1oK7eU2SFrpXv/rV3HTTTTzykY/kkksuGXU592IoSNJRdtNNN3HDDTeMuoxZOX0kSWp1GgpJNibZk2RvkgtneX11kk8l+XKSryR5epf1SJLm1lkoJBkDLgXOAdYD5ydZP6Pb64DLq+o0YDPwZ13VI0maX5cjhQ3A3qraV1V3ANuBTTP6FLCs2X4YcGOH9UiS5tHlieYVwP6+9jTwxBl9Xg98PMkFwFLgqR3WI0maR5cjhcyyr2a0zwfeXVUrgacD701yn5qSbEkylWTqwIEDHZQqSYJuQ2EaWNXXXsl9p4deBFwOUFV/B5wILJ95oKraVlUTVTUxPj7vg4MkSfdTl6GwE1iXZG2SJfROJO+Y0ed64CyAJP+SXig4FJCkEeksFKrqILAVuBK4lt5VRruTXJzk3KbbK4DfTfIPwAeAF1TVzCkmSdJR0ukdzVU1CUzO2HdR3/Y1wOld1iBJGpx3NEuSWoaCJKllKEiSWq6SKklz+MPnnjf0Y9568/d7v2/69tCP/9q/uOIBvd9QkHTMOZafN7DYGQqSjjnH8vMGFjvPKUiSWoaCJKllKEiSWoaCJKnliWZJD8ifvuIjQz/mbbf8qP097ONv/W/PGurxFhtHCpKklqEgSWoZCpKklqEgSWoZCpKkVqehkGRjkj1J9ia5cJbX35Tk6ubn/ya5rct6JC0MS5csY+lDTmHpkmWjLqUTJ44dx0PHjuPEsWPv3+WdXZKaZAy4FDgbmAZ2JtnRPG0NgKp6WV//C4DTuqpH0sJx+qN/c9QldOq0nzl51CUcVpcxtQHYW1X7quoOYDuwaY7+59N7TrMkaUS6DIUVwP6+9nSz7z6SPApYC3yyw3okSfPoMhQyy746TN/NwBVVddesB0q2JJlKMnXgwIGhFShJurcuQ2EaWNXXXgnceJi+m5lj6qiqtlXVRFVNjI+PD7FESVK/Ltc+2gmsS7IWuIHeH/7fntkpyanAw4G/67AWaVHxyWTqSmehUFUHk2wFrgTGgHdW1e4kFwNTVbWj6Xo+sL2qDje1JGkGn0ymrnS6SmpVTQKTM/ZdNKP9+i5rkCQN7ti7c0KSNDI+T0Hq2GeefMbQj/mT48cg4SfT050c/4zPfmbox9TCYCg8iHmyUtJMhsKDmCcrJc3kOQVJUsuRgrQAndJcwX2KV3JryAwFaQF67l13j7oELVJOH0mSWo4U5uDVOZIebAyFOXh1jqQHG6ePJEktRwpatJz+k46coaBFy+k/6cg5fSRJahkKkqSW00caudPfcnonx11y2xKO4zj237Z/6J/xhQu+MNTjSceKTkcKSTYm2ZNkb5ILD9PnOUmuSbI7yfu7rEeSNLfORgpJxoBLgbOBaWBnkh1VdU1fn3XAa4DTq+p7Sf5pV/VIkubX5UhhA7C3qvZV1R3AdmDTjD6/C1xaVd8DqKqbO6xHkjSPLkNhBbC/rz3d7Ov3GOAxSb6Q5ItJNnZYjx5k6qTi7qV3Uye5kqg0qC5PNGeWfTP/7zweWAecCawEPpfksVV1270OlGwBtgCsXr16+JVqUbrz9DtHXYK04HQZCtPAqr72SuDGWfp8saruBL6ZZA+9kNjZ36mqtgHbACYmJh50/+y7/uJf6OS4B299BHA8B2/91tA/Y/VFXx3q8SQdHV1OH+0E1iVZm2QJsBnYMaPPXwNPAUiynN500r4Oa5IkzaGzUKiqg8BW4ErgWuDyqtqd5OIk5zbdrgS+m+Qa4FPAq6rqu13VJEmaW6c3r1XVJDA5Y99FfdsFvLz5kSSNmMtcSJJahoIkqWUoSJJai2ZBvCe86j1DP+bJt/yAMeD6W34w9OPv+qN/N9TjSdIwOFKQJLUMBUlSy1CQJLUMBUlSy1CQJLUMBUlSy1CQJLUWzX0KOnLLT7wbONj8liRD4UHtlY+7bf5Okh5UnD6SJLUMBUlSy1CQJLUGCoUklyRZluSEJJ9IckuS53ZdnCTp6Bp0pPC0qrodeCYwTe9Zyq+a701JNibZk2Rvkgtnef0FSQ4kubr5+Z0jql6SNFSDXn10QvP76cAHqurWJHO+IckYcClwNr0g2ZlkR1VdM6PrB6tq6xHULEnqyKAjhY8k+TowAXwiyTjw03neswHYW1X7quoOYDuw6f6XKknq2kChUFUXAr8KTFTVncCPmf8P/Apgf197utk3028l+UqSK5Ksmu1ASbYkmUoydeDAgUFKliTdD4OeaD4JeDHw1mbXz9EbNcz5tln21Yz2R4A1VfU44G+Ay2Y7UFVtq6qJqpoYHx8fpOShuHvJUu56yDLuXrL0qH2mJI3SoOcU3gXsAn6taU8DHwI+Osd7poH+f/mvBG7s71BV3+1r/jnwhgHrOSp+tO5poy5Bko6qQc8pPLqqLgHuBKiqnzD7SKDfTmBdkrVJlgCbgR39HZL8bF/zXODaAeuRJHVg0JHCHUkeSjP9k+TRwD/O9YaqOphkK3AlMAa8s6p2J7kYmKqqHcBLkpwLHARuBV5w/76GJGkYBg2F1wMfA1YleR9wOvDC+d5UVZPA5Ix9F/VtvwZ4zaDFSpK6NVAoVNXHk+wCfoXetNFLq+qWTiuTJB11g1599Imq+m5V/a+q+mhV3ZLkE10XJ0k6uuYcKSQ5ETgJWJ7k4dxzcnkZvctSJUmLyHzTR78H/AG9ANjFPaFwO70lLCRJi8icoVBVbwbenOSCqnrLUapJkjQig55ofkuSxwLrgRP79r+nq8IkSUffQKGQ5D8BZ9ILhUngHODzgKEgSYvIoHc0nwecBdxUVS8EfhF4SGdVSZJGYtBQ+ElV3Q0cTLIMuBn4+e7KkiSNwqB3NE8lOYXeonW7gB8Cf99ZVZKkkRj0RPN/aDbfluRjwLKq+kp3ZUmSRmHQkQJJVgCPOvSeJE+uqs92VZgk6egb9OqjNwD/FrgGuKvZXYChIEmLyKAjhd8ATq2qOZfLliQtbINefbQPOKHLQiRJozffgnhvoTdN9GPg6mZl1Ha0UFUv6bY8SdLRNN/00VTzexczHqU5iCQbgTfTe/LaO6rqvx6m33n0nvn8y1U1NVsfSVL35lsQ77JD281zlv8FvZHDnqq6Y673Jhmjt5Lq2cA0sDPJjqq6Zka/k4GXAF+6X99AkjQ0gz5k5+nAN4A/Af4U2JvknHnetgHYW1X7mgDZDmyapd9/AS4Bfjpw1ZKkTgx6ovmPgadU1ZlVdQbwFOBN87xnBbC/rz3d7GslOQ1YVVUfnetASbYkmUoydeDAgQFLliQdqUFD4eaq2tvX3kdv/aO5ZJZ91b6YHEcvWF4x34dX1baqmqiqifHx8UHqlSTdD4Pep7A7ySRwOb0/7M+md47gNwGq6q9mec80sKqvvRK4sa99MvBY4NNJAB4J7EhyriebJWk0Bg2FE4HvAGc07QPAI4Bn0QuJ2UJhJ7AuyVrgBmAz8NuHXqyq7wPLD7WTfBp4pYEgSaMz6IJ4LzzSA1fVwSRbgSvpXZL6zqraneRiYKqqjvgSV0lStwa9eW1W8928VlWT9J7U1r/vosP0PXOuY0mSujfozWuSpAeBgW9ekyQtfoMunf0pZplGqqpfH3pFkqSRGfTqo1f2bZ8I/BZwcPjlSJJGadCrj3bN2PWFJJ/poB5J0ggNOn30iL7mccAEvZvNJEmLyKDTR7vonVMIcCdwHfCijmqSJI3IoGsf/Ufg8VW1Fngv8CN6D96RJC0ig4bC66rq9iT/it7zEd4NvLWzqiRJIzFoKNzV/H4G8Laq+p/Akm5KkiSNyqChcEOStwPPASaTPOQI3itJWiAG/cP+HHoL222sqtvorZD6qs6qkiSNxKD3KfyYvuWxq+rbwLe7KkqSNBpOAUmSWoaCJKllKEiSWp2GQpKNSfYk2Zvkwlle//0kX01ydZLPJ1nfZT2SpLl1FgpJxoBLgXOA9cD5s/zRf39V/UJVPR64BPjjruqRJM2vy5HCBmBvVe2rqjuA7cCm/g5VdXtfcylzPPpTktS9QRfEuz9WAPv72tPAE2d2SvJi4OX07pCe9aE9SbYAWwBWr1499EIlST1djhQyy77Znt52aVU9mt6ie6+b7UBVta2qJqpqYnx8fMhlSpIO6TIUpoFVfe2VwI1z9N8O/EaH9UiS5tFlKOwE1iVZm2QJsBnY0d8hybq+5jOA/9dhPZKkeXR2TqGqDibZSm/NpDHgnVW1O8nFwFRV7QC2JnkqvQf3fA94flf1SJLm1+WJZqpqEpicse+ivu2Xdvn5kqQj4x3NkqSWoSBJahkKkqSWoSBJahkKkqSWoSBJahkKkqSWoSBJahkKkqSWoSBJahkKkqSWoSBJahkKkqSWoSBJahkKkqSWoSBJanUaCkk2JtmTZG+SC2d5/eVJrknylSSfSPKoLuuRJM2ts1BIMgZcCpwDrAfOT7J+RrcvAxNV9TjgCuCSruqRJM2vy5HCBmBvVe2rqjuA7cCm/g5V9amq+nHT/CKwssN6JEnz6DIUVgD7+9rTzb7DeRHwvzusR5I0j+M7PHZm2VezdkyeC0wAZxzm9S3AFoDVq1cPqz5J0gxdjhSmgVV97ZXAjTM7JXkq8Frg3Kr6x9kOVFXbqmqiqibGx8c7KVaS1G0o7ATWJVmbZAmwGdjR3yHJacDb6QXCzR3WIkkaQGehUFUHga3AlcC1wOVVtTvJxUnObbr9EfBPgA8luTrJjsMcTpJ0FHR5ToGqmgQmZ+y7qG/7qV1+viTpyHhHsySpZShIklqGgiSpZShIklqGgiSpZShIklqGgiSpZShIklqGgiSpZShIklqGgiSpZShIklqGgiSpZShIklqGgiSpZShIklqdhkKSjUn2JNmb5MJZXn9ykquSHExyXpe1SJLm11koJBkDLgXOAdYD5ydZP6Pb9cALgPd3VYckaXBdPo5zA7C3qvYBJNkObAKuOdShqq5rXru7wzokSQPqcvpoBbC/rz3d7JMkHaO6DIXMsq/u14GSLUmmkkwdOHDgAZYlSTqcLkNhGljV114J3Hh/DlRV26pqoqomxsfHh1KcJOm+ugyFncC6JGuTLAE2Azs6/DxJ0gPUWShU1UFgK3AlcC1weVXtTnJxknMBkvxykmng2cDbk+zuqh5J0vy6vPqIqpoEJmfsu6hveye9aSVJ0jHAO5olSS1DQZLUMhQkSS1DQZLUMhQkSS1DQZLUMhQkSS1DQZLUMhQkSS1DQZLUMhQkSS1DQZLUMhQkSS1DQZLUMhQkSS1DQZLU6jQUkmxMsifJ3iQXzvL6Q5J8sHn9S0nWdFmPJGlunYVCkjHgUuAcYD1wfpL1M7q9CPheVf1z4E3AG7qqR5I0vy5HChuAvVW1r6ruALYDm2b02QRc1mxfAZyVJB3WJEmaQ5ehsALY39eebvbN2qeqDgLfB36mw5okSXNIVXVz4OTZwL+uqt9p2s8DNlTVBX19djd9ppv2N5o+351xrC3AlqZ5KrCnk6Jntxy45Sh+3tHm91u4FvN3A7/fsD2qqsbn63R8hwVMA6v62iuBGw/TZzrJ8cDDgFtnHqiqtgHbOqpzTkmmqmpiFJ99NPj9Fq7F/N3A7zcqXU4f7QTWJVmbZAmwGdgxo88O4PnN9nnAJ6uroYskaV6djRSq6mCSrcCVwBjwzqraneRiYKqqdgD/A3hvkr30Rgibu6pHkjS/LqePqKpJYHLGvov6tn8KPLvLGoZgJNNWR5Hfb+FazN8N/H4j0dmJZknSwuMyF5KklqFwGElOTPL3Sf4hye4k/3nUNQ1bkrEkX07y0VHXMmxJrkvy1SRXJ5kadT3DluSUJFck+XqSa5P86qhrGpYkpzb/3Q793J7kD0Zd17AkeVnzN+VrST6Q5MRR19TP6aPDaO6sXlpVP0xyAvB54KVV9cURlzY0SV4OTADLquqZo65nmJJcB0xU1aK8zj3JZcDnquodzdV9J1XVbaOua9ia5XJuAJ5YVd8adT0PVJIV9P6WrK+qnyS5HJisqnePtrJ7OFI4jOr5YdM8oflZNAmaZCXwDOAdo65FRybJMuDJ9K7eo6ruWIyB0DgL+MZiCIQ+xwMPbe7NOon73r81UobCHJrplauBm4H/U1VfGnVNQ/TfgVcDd4+6kI4U8PEku5o74heTnwcOAO9qpv/ekWTpqIvqyGbgA6MuYliq6gbgjcD1wLeB71fVx0db1b0ZCnOoqruq6vH07sbekOSxo65pGJI8E7i5qnaNupYOnV5Vv0Rvld4XJ3nyqAsaouOBXwLeWlWnAT8C7rM0/ULXTIudC3xo1LUMS5KH01sIdC3wc8DSJM8dbVX3ZigMoBmafxrYOOJShuV04Nxm3n078OtJ/mK0JQ1XVd3Y/L4Z+DC9VXsXi2lgum/kegW9kFhszgGuqqrvjLqQIXoq8M2qOlBVdwJ/BfzaiGu6F0PhMJKMJzml2X4ovf+YXx9tVcNRVa+pqpVVtYbe8PyTVXVM/WvlgUiyNMnJh7aBpwFfG21Vw1NVNwH7k5za7DoLuGaEJXXlfBbR1FHjeuBXkpzUXMxyFnDtiGu6l07vaF7gfha4rLn64Tjg8qpadJduLlL/DPhw82iO44H3V9XHRlvS0F0AvK+ZYtkHvHDE9QxVkpOAs4HfG3Utw1RVX0pyBXAVcBD4MsfYnc1ekipJajl9JElqGQqSpJahIElqGQqSpJahIElqGQrSkCVZk+RrzfZEkj9pts9MckzdqCTN5H0KUoeqago4tHT3mcAPgb8dWUHSPBwpSH2SvDbJniR/06x1/8okn04y0by+vFke5NCI4HNJrmp+7jMKaEYHH02yBvh94GXNMwKelOSbzbLsJFnWPAPihKP2ZaVZOFKQGkmeQG/Zj9Po/b9xFTDXooE3A2dX1U+TrKO3JMPEbB2r6rokbwN+WFVvbD7v0/SWL//r5nP/slkPRxoZRwrSPZ4EfLiqflxVtwM75ul/AvDnSb5KbyXP9Uf4ee/gnuUpXgi86wjfLw2dIwXp3mZb9+Ug9/wDqv/RiS8DvgP8YvP6T4/og6q+0ExBnQGMVdWiWbRPC5cjBekenwX+TZKHNqusPqvZfx3whGb7vL7+DwO+XVV3A88DxuY5/g+Ak2fsew+9aSdHCTomGApSo6quAj4IXA38JfC55qU3Av8+yd8Cy/ve8mfA85N8EXgMvYfdzOUj9ELn6iRPava9D3g4i2+JaC1QrpIqHUaS19N3YrijzzgP2FRVz+vqM6Qj4TkFaUSSvIXe08WePupapEMcKUiSWp5TkCS1DAVJUstQkCS1DAVJUstQkCS1DAVJUuv/A/gmS3XJ/mPRAAAAAElFTkSuQmCC\n",
      "text/plain": [
       "<Figure size 432x288 with 1 Axes>"
      ]
     },
     "metadata": {
      "needs_background": "light"
     },
     "output_type": "display_data"
    }
   ],
   "source": [
    "sns.barplot(x=\"quality\", y=\"sulphates\", data=df);"
   ]
  },
  {
   "cell_type": "code",
   "execution_count": 186,
   "metadata": {},
   "outputs": [
    {
     "name": "stderr",
     "output_type": "stream",
     "text": [
     ]
    },
    {
     "data": {
      "text/plain": [
       "<matplotlib.axes._subplots.AxesSubplot at 0x1c6d694cd68>"
      ]
     },
     "execution_count": 186,
     "metadata": {},
     "output_type": "execute_result"
    },
    {
     "data": {
      "image/png": "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\n",
      "text/plain": [
       "<Figure size 432x288 with 1 Axes>"
      ]
     },
     "metadata": {
      "needs_background": "light"
     },
     "output_type": "display_data"
    }
   ],
   "source": [
    "sns.barplot(x = 'quality', y = 'citric acid', data = df)"
   ]
  },
  {
   "cell_type": "code",
   "execution_count": 163,
   "metadata": {},
   "outputs": [
    {
     "name": "stderr",
     "output_type": "stream",
     "text": [
          ]
    },
    {
     "data": {
      "text/plain": [
       "<matplotlib.axes._subplots.AxesSubplot at 0x1c6d6803208>"
      ]
     },
     "execution_count": 163,
     "metadata": {},
     "output_type": "execute_result"
    },
    {
     "data": {
      "image/png": "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\n",
      "text/plain": [
       "<Figure size 432x288 with 1 Axes>"
      ]
     },
     "metadata": {
      "needs_background": "light"
     },
     "output_type": "display_data"
    }
   ],
   "source": [
    "sns.barplot(x = 'quality', y = 'total sulfur dioxide', data = df)"
   ]
  },
  {
   "cell_type": "code",
   "execution_count": null,
   "metadata": {},
   "outputs": [],
   "source": [
    "df.head()"
   ]
  },
  {
   "cell_type": "code",
   "execution_count": 171,
   "metadata": {},
   "outputs": [
    {
     "data": {
      "text/html": [
       "<div>\n",
       "<style scoped>\n",
       "    .dataframe tbody tr th:only-of-type {\n",
       "        vertical-align: middle;\n",
       "    }\n",
       "\n",
       "    .dataframe tbody tr th {\n",
       "        vertical-align: top;\n",
       "    }\n",
       "\n",
       "    .dataframe thead th {\n",
       "        text-align: right;\n",
       "    }\n",
       "</style>\n",
       "<table border=\"1\" class=\"dataframe\">\n",
       "  <thead>\n",
       "    <tr style=\"text-align: right;\">\n",
       "      <th></th>\n",
       "      <th>volatile acidity</th>\n",
       "      <th>citric acid</th>\n",
       "      <th>chlorides</th>\n",
       "      <th>sulphates</th>\n",
       "      <th>alcohol</th>\n",
       "    </tr>\n",
       "  </thead>\n",
       "  <tbody>\n",
       "    <tr>\n",
       "      <th>0</th>\n",
       "      <td>0.70</td>\n",
       "      <td>0.00</td>\n",
       "      <td>0.076</td>\n",
       "      <td>0.56</td>\n",
       "      <td>9.4</td>\n",
       "    </tr>\n",
       "    <tr>\n",
       "      <th>1</th>\n",
       "      <td>0.88</td>\n",
       "      <td>0.00</td>\n",
       "      <td>0.098</td>\n",
       "      <td>0.68</td>\n",
       "      <td>9.8</td>\n",
       "    </tr>\n",
       "    <tr>\n",
       "      <th>2</th>\n",
       "      <td>0.76</td>\n",
       "      <td>0.04</td>\n",
       "      <td>0.092</td>\n",
       "      <td>0.65</td>\n",
       "      <td>9.8</td>\n",
       "    </tr>\n",
       "    <tr>\n",
       "      <th>3</th>\n",
       "      <td>0.28</td>\n",
       "      <td>0.56</td>\n",
       "      <td>0.075</td>\n",
       "      <td>0.58</td>\n",
       "      <td>9.8</td>\n",
       "    </tr>\n",
       "    <tr>\n",
       "      <th>4</th>\n",
       "      <td>0.70</td>\n",
       "      <td>0.00</td>\n",
       "      <td>0.076</td>\n",
       "      <td>0.56</td>\n",
       "      <td>9.4</td>\n",
       "    </tr>\n",
       "  </tbody>\n",
       "</table>\n",
       "</div>"
      ],
      "text/plain": [
       "   volatile acidity  citric acid  chlorides  sulphates  alcohol\n",
       "0              0.70         0.00      0.076       0.56      9.4\n",
       "1              0.88         0.00      0.098       0.68      9.8\n",
       "2              0.76         0.04      0.092       0.65      9.8\n",
       "3              0.28         0.56      0.075       0.58      9.8\n",
       "4              0.70         0.00      0.076       0.56      9.4"
      ]
     },
     "execution_count": 171,
     "metadata": {},
     "output_type": "execute_result"
    }
   ],
   "source": [
    "#X= df[['fixed acidity','volatile acidity','citric acid',\n",
    "#       'residual sugar','chlorides','free sulfur dioxide',\n",
    "#       'total sulfur dioxide','density','pH','sulphates','alcohol']]\n",
    "X= df[['volatile acidity','citric acid','chlorides','sulphates','alcohol']]\n",
    "y = df['qualityBool']\n",
    "X.head()"
   ]
  },
  {
   "cell_type": "code",
   "execution_count": 172,
   "metadata": {},
   "outputs": [],
   "source": [
    "X_train, X_test, Y_train, Y_test = train_test_split(X, y, test_size=0.30, random_state=0)"
   ]
  },
  {
   "cell_type": "code",
   "execution_count": 173,
   "metadata": {},
   "outputs": [
    {
     "data": {
      "text/html": [
       "<div>\n",
       "<style scoped>\n",
       "    .dataframe tbody tr th:only-of-type {\n",
       "        vertical-align: middle;\n",
       "    }\n",
       "\n",
       "    .dataframe tbody tr th {\n",
       "        vertical-align: top;\n",
       "    }\n",
       "\n",
       "    .dataframe thead th {\n",
       "        text-align: right;\n",
       "    }\n",
       "</style>\n",
       "<table border=\"1\" class=\"dataframe\">\n",
       "  <thead>\n",
       "    <tr style=\"text-align: right;\">\n",
       "      <th></th>\n",
       "      <th>volatile acidity</th>\n",
       "      <th>citric acid</th>\n",
       "      <th>chlorides</th>\n",
       "      <th>sulphates</th>\n",
       "      <th>alcohol</th>\n",
       "    </tr>\n",
       "  </thead>\n",
       "  <tbody>\n",
       "    <tr>\n",
       "      <th>92</th>\n",
       "      <td>0.49</td>\n",
       "      <td>0.29</td>\n",
       "      <td>0.110</td>\n",
       "      <td>1.98</td>\n",
       "      <td>9.8</td>\n",
       "    </tr>\n",
       "    <tr>\n",
       "      <th>1017</th>\n",
       "      <td>0.18</td>\n",
       "      <td>0.37</td>\n",
       "      <td>0.049</td>\n",
       "      <td>0.44</td>\n",
       "      <td>12.7</td>\n",
       "    </tr>\n",
       "    <tr>\n",
       "      <th>1447</th>\n",
       "      <td>0.67</td>\n",
       "      <td>0.00</td>\n",
       "      <td>0.080</td>\n",
       "      <td>0.74</td>\n",
       "      <td>9.7</td>\n",
       "    </tr>\n",
       "    <tr>\n",
       "      <th>838</th>\n",
       "      <td>0.31</td>\n",
       "      <td>0.35</td>\n",
       "      <td>0.075</td>\n",
       "      <td>0.83</td>\n",
       "      <td>11.2</td>\n",
       "    </tr>\n",
       "    <tr>\n",
       "      <th>40</th>\n",
       "      <td>0.45</td>\n",
       "      <td>0.36</td>\n",
       "      <td>0.074</td>\n",
       "      <td>0.83</td>\n",
       "      <td>10.5</td>\n",
       "    </tr>\n",
       "  </tbody>\n",
       "</table>\n",
       "</div>"
      ],
      "text/plain": [
       "      volatile acidity  citric acid  chlorides  sulphates  alcohol\n",
       "92                0.49         0.29      0.110       1.98      9.8\n",
       "1017              0.18         0.37      0.049       0.44     12.7\n",
       "1447              0.67         0.00      0.080       0.74      9.7\n",
       "838               0.31         0.35      0.075       0.83     11.2\n",
       "40                0.45         0.36      0.074       0.83     10.5"
      ]
     },
     "execution_count": 173,
     "metadata": {},
     "output_type": "execute_result"
    }
   ],
   "source": [
    "X_train.head()"
   ]
  },
  {
   "cell_type": "code",
   "execution_count": 174,
   "metadata": {},
   "outputs": [
    {
     "data": {
      "text/html": [
       "<div>\n",
       "<style scoped>\n",
       "    .dataframe tbody tr th:only-of-type {\n",
       "        vertical-align: middle;\n",
       "    }\n",
       "\n",
       "    .dataframe tbody tr th {\n",
       "        vertical-align: top;\n",
       "    }\n",
       "\n",
       "    .dataframe thead th {\n",
       "        text-align: right;\n",
       "    }\n",
       "</style>\n",
       "<table border=\"1\" class=\"dataframe\">\n",
       "  <thead>\n",
       "    <tr style=\"text-align: right;\">\n",
       "      <th></th>\n",
       "      <th>volatile acidity</th>\n",
       "      <th>citric acid</th>\n",
       "      <th>chlorides</th>\n",
       "      <th>sulphates</th>\n",
       "      <th>alcohol</th>\n",
       "    </tr>\n",
       "  </thead>\n",
       "  <tbody>\n",
       "    <tr>\n",
       "      <th>1109</th>\n",
       "      <td>0.470</td>\n",
       "      <td>0.43</td>\n",
       "      <td>0.171</td>\n",
       "      <td>0.76</td>\n",
       "      <td>10.8</td>\n",
       "    </tr>\n",
       "    <tr>\n",
       "      <th>1032</th>\n",
       "      <td>0.820</td>\n",
       "      <td>0.00</td>\n",
       "      <td>0.095</td>\n",
       "      <td>0.53</td>\n",
       "      <td>9.6</td>\n",
       "    </tr>\n",
       "    <tr>\n",
       "      <th>1002</th>\n",
       "      <td>0.290</td>\n",
       "      <td>0.33</td>\n",
       "      <td>0.063</td>\n",
       "      <td>0.84</td>\n",
       "      <td>11.7</td>\n",
       "    </tr>\n",
       "    <tr>\n",
       "      <th>487</th>\n",
       "      <td>0.645</td>\n",
       "      <td>0.36</td>\n",
       "      <td>0.053</td>\n",
       "      <td>0.42</td>\n",
       "      <td>10.0</td>\n",
       "    </tr>\n",
       "    <tr>\n",
       "      <th>979</th>\n",
       "      <td>0.450</td>\n",
       "      <td>0.49</td>\n",
       "      <td>0.075</td>\n",
       "      <td>0.63</td>\n",
       "      <td>10.4</td>\n",
       "    </tr>\n",
       "  </tbody>\n",
       "</table>\n",
       "</div>"
      ],
      "text/plain": [
       "      volatile acidity  citric acid  chlorides  sulphates  alcohol\n",
       "1109             0.470         0.43      0.171       0.76     10.8\n",
       "1032             0.820         0.00      0.095       0.53      9.6\n",
       "1002             0.290         0.33      0.063       0.84     11.7\n",
       "487              0.645         0.36      0.053       0.42     10.0\n",
       "979              0.450         0.49      0.075       0.63     10.4"
      ]
     },
     "execution_count": 174,
     "metadata": {},
     "output_type": "execute_result"
    }
   ],
   "source": [
    "X_test.head()"
   ]
  },
  {
   "cell_type": "code",
   "execution_count": 175,
   "metadata": {},
   "outputs": [
    {
     "data": {
      "text/plain": [
       "(1119,)"
      ]
     },
     "execution_count": 175,
     "metadata": {},
     "output_type": "execute_result"
    }
   ],
   "source": [
    "Y_train.shape"
   ]
  },
  {
   "cell_type": "code",
   "execution_count": 176,
   "metadata": {},
   "outputs": [
    {
     "data": {
      "text/plain": [
       "(480,)"
      ]
     },
     "execution_count": 176,
     "metadata": {},
     "output_type": "execute_result"
    }
   ],
   "source": [
    "Y_test.shape"
   ]
  },
  {
   "cell_type": "code",
   "execution_count": 177,
   "metadata": {},
   "outputs": [
    {
     "name": "stdout",
     "output_type": "stream",
     "text": [
      "Accuracy is 0.7583333333333333\n"
     ]
    },
    {
     "name": "stderr",
     "output_type": "stream",
     "text": [
         ]
    }
   ],
   "source": [
    "#run alg\n",
    "svm= SVC()\n",
    "model = CalibratedClassifierCV(svm).fit(X_train, Y_train)\n",
    "# evaluate the test set\n",
    "accuracy = model.score(X_test, Y_test)\n",
    "# log accuracy which is a single numerical value\n",
    "print (\"Accuracy is {}\".format(accuracy))\n"
   ]
  },
  {
   "cell_type": "code",
   "execution_count": 184,
   "metadata": {},
   "outputs": [
    {
     "name": "stdout",
     "output_type": "stream",
     "text": [
      "Accuracy is 0.7479166666666667\n"
     ]
    }
   ],
   "source": [
    "lrmodel = LogisticRegression(random_state=0, solver='lbfgs', multi_class='multinomial').fit(X_train, Y_train)\n",
    "# evaluate the test set\n",
    "lraccuracy = lrmodel.score(X_test, Y_test)\n",
    "# log accuracy which is a single numerical value\n",
    "print (\"Accuracy is {}\".format(lraccuracy))"
   ]
  },
  {
   "cell_type": "code",
   "execution_count": 185,
   "metadata": {},
   "outputs": [
    {
     "name": "stdout",
     "output_type": "stream",
     "text": [
      "Accuracy is 0.7604166666666666\n"
     ]
    }
   ],
   "source": [
    "dtmodel =DecisionTreeClassifier(random_state=0).fit(X_train, Y_train)\n",
    "# evaluate the test set\n",
    "dtaccuracy = dtmodel.score(X_test, Y_test)\n",
    "# log accuracy which is a single numerical value\n",
    "print (\"Accuracy is {}\".format(dtaccuracy))"
   ]
  },
  {
   "cell_type": "code",
   "execution_count": 178,
   "metadata": {},
   "outputs": [],
   "source": [
    "# calculate and log precision, recall, and thresholds, which are list of numerical values\n",
    "y_scores = model.predict_proba(X_test)\n",
    "precision, recall, thresholds = precision_recall_curve(Y_test, y_scores[:,1],pos_label=1)\n",
    "\n",
    "# serialize the model on disk in the 'outputs' folder\n",
    "#print (\"Export the model to \" + model_name)\n",
    "#with open('cat_insert_procedure_model.pkl', 'wb') as fid:\n",
    "#    joblib.dump(model, fid)"
   ]
  },
  {
   "cell_type": "code",
   "execution_count": 180,
   "metadata": {},
   "outputs": [],
   "source": [
    "#print('accuracy: '+ str(accuracy)+' precision: '+ str(precision)+' recall: '+ str(recall)+' thresholds: '+ str(thresholds))"
   ]
  },
  {
   "cell_type": "code",
   "execution_count": null,
   "metadata": {},
   "outputs": [],
   "source": []
  }
 ],
 "metadata": {
  "kernelspec": {
   "display_name": "Python 3",
   "language": "python",
   "name": "python3"
  }
 },
 "nbformat": 4,
 "nbformat_minor": 2
}
